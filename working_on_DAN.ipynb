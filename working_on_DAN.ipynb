{
  "nbformat": 4,
  "nbformat_minor": 0,
  "metadata": {
    "colab": {
      "provenance": []
    },
    "kernelspec": {
      "name": "python3",
      "display_name": "Python 3"
    },
    "language_info": {
      "name": "python"
    }
  },
  "cells": [
    {
      "cell_type": "code",
      "execution_count": null,
      "metadata": {
        "colab": {
          "base_uri": "https://localhost:8080/"
        },
        "id": "WqxoOYWxeXux",
        "outputId": "525d95b9-49c4-43ed-8746-57c74b538e30"
      },
      "outputs": [
        {
          "output_type": "stream",
          "name": "stdout",
          "text": [
            "Mounted at /content/drive\n"
          ]
        }
      ],
      "source": [
        "from google.colab import drive\n",
        "import os\n",
        "\n",
        "# Mount Google Drive\n",
        "drive.mount('/content/drive')"
      ]
    },
    {
      "cell_type": "code",
      "source": [
        "import os\n",
        "import re\n",
        "from glob import glob\n",
        "\n",
        "# Define paths\n",
        "img_dir = \"/content/drive/MyDrive/human_ai_folder/processed_images\"\n",
        "txt_dir = \"/content/drive/MyDrive/human_ai_folder/transcripts\"\n",
        "\n",
        "# Manual mapping for inconsistent names\n",
        "name_correction = {\n",
        "    \"Constituciones\": \"Constituciones sinodales\"\n",
        "}\n",
        "\n",
        "# Get all image file paths\n",
        "image_files = sorted(glob(os.path.join(img_dir, \"*.jpg\")))\n",
        "\n",
        "# Function to extract document name and page number from image filename\n",
        "def extract_doc_and_page(image_filename):\n",
        "    match = re.match(r\"(.*)-page_(\\d+)\", image_filename)\n",
        "    if match:\n",
        "        doc_name, page_num = match.groups()\n",
        "\n",
        "        # Correct document name if needed\n",
        "        doc_name = name_correction.get(doc_name, doc_name)\n",
        "\n",
        "        return doc_name, f\"page{page_num}.txt\"\n",
        "    return None, None\n",
        "\n",
        "# Create mapping between images and transcripts\n",
        "image_text_pairs = []\n",
        "for img_path in image_files:\n",
        "    img_name = os.path.basename(img_path).replace(\".jpg\", \"\")\n",
        "    doc_name, page_filename = extract_doc_and_page(img_name)\n",
        "\n",
        "    if doc_name and page_filename:\n",
        "        transcript_folder = os.path.join(txt_dir, f\"transcript_{doc_name}\")\n",
        "        text_path = os.path.join(transcript_folder, page_filename)\n",
        "\n",
        "        if os.path.exists(text_path):\n",
        "            image_text_pairs.append((img_path, text_path))\n",
        "\n",
        "# Check dataset size\n",
        "print(f\"Found {len(image_text_pairs)} image-text pairs\")\n",
        "\n",
        "# Display a few samples\n",
        "for i, (img, txt) in enumerate(image_text_pairs[:5]):  # Show only 5 samples\n",
        "    print(f\"Sample {i+1}:\")\n",
        "    print(f\"  Image Path    : {img}\")\n",
        "    print(f\"  Transcript Path: {txt}\")\n",
        "    print(\"-\" * 50)"
      ],
      "metadata": {
        "colab": {
          "base_uri": "https://localhost:8080/"
        },
        "id": "nMzgRuiT-DLB",
        "outputId": "67809534-f986-45fe-ae31-47a6eb860e60"
      },
      "execution_count": null,
      "outputs": [
        {
          "output_type": "stream",
          "name": "stdout",
          "text": [
            "Found 14 image-text pairs\n",
            "Sample 1:\n",
            "  Image Path    : /content/drive/MyDrive/human_ai_folder/processed_images/Buendia-page_1.jpg\n",
            "  Transcript Path: /content/drive/MyDrive/human_ai_folder/transcripts/transcript_Buendia/page1.txt\n",
            "--------------------------------------------------\n",
            "Sample 2:\n",
            "  Image Path    : /content/drive/MyDrive/human_ai_folder/processed_images/Buendia-page_2.jpg\n",
            "  Transcript Path: /content/drive/MyDrive/human_ai_folder/transcripts/transcript_Buendia/page2.txt\n",
            "--------------------------------------------------\n",
            "Sample 3:\n",
            "  Image Path    : /content/drive/MyDrive/human_ai_folder/processed_images/Buendia-page_3.jpg\n",
            "  Transcript Path: /content/drive/MyDrive/human_ai_folder/transcripts/transcript_Buendia/page3.txt\n",
            "--------------------------------------------------\n",
            "Sample 4:\n",
            "  Image Path    : /content/drive/MyDrive/human_ai_folder/processed_images/Constituciones-page_1.jpg\n",
            "  Transcript Path: /content/drive/MyDrive/human_ai_folder/transcripts/transcript_Constituciones sinodales/page1.txt\n",
            "--------------------------------------------------\n",
            "Sample 5:\n",
            "  Image Path    : /content/drive/MyDrive/human_ai_folder/processed_images/Constituciones-page_2.jpg\n",
            "  Transcript Path: /content/drive/MyDrive/human_ai_folder/transcripts/transcript_Constituciones sinodales/page2.txt\n",
            "--------------------------------------------------\n"
          ]
        }
      ]
    },
    {
      "cell_type": "code",
      "source": [
        "import albumentations as A\n",
        "import cv2\n",
        "import numpy as np\n",
        "from tqdm import tqdm\n",
        "\n",
        "# Define augmentation pipeline\n",
        "augmentations = A.Compose([\n",
        "    A.Rotate(limit=3, p=0.5),  # Slight rotation\n",
        "    A.RandomBrightnessContrast(p=0.5),  # Adjust brightness & contrast\n",
        "    A.GaussNoise(var_limit=(10.0, 50.0), p=0.4),  # Inject noise\n",
        "    A.MotionBlur(blur_limit=3, p=0.3),  # Simulate motion blur\n",
        "])\n",
        "\n",
        "# Define output directory for augmented images\n",
        "augmented_data_dir = \"/content/drive/MyDrive/human_ai_folder/augmented_images\"\n",
        "os.makedirs(augmented_data_dir, exist_ok=True)\n",
        "\n",
        "num_augmentations = 10  # Generate 10 augmented versions per image\n",
        "augmented_pairs = []\n",
        "\n",
        "# Loop through original image-text pairs\n",
        "for img_path, text_path in tqdm(image_text_pairs):\n",
        "    img = cv2.imread(img_path)\n",
        "    img = cv2.cvtColor(img, cv2.COLOR_BGR2RGB)\n",
        "\n",
        "    # Save the original image (unchanged) in augmented dataset\n",
        "    img_name = os.path.basename(img_path)\n",
        "    orig_img_path = os.path.join(augmented_data_dir, img_name)\n",
        "    cv2.imwrite(orig_img_path, cv2.cvtColor(img, cv2.COLOR_RGB2BGR))\n",
        "    augmented_pairs.append((orig_img_path, text_path))\n",
        "\n",
        "    # Generate multiple augmented images per original\n",
        "    for i in range(1, num_augmentations + 1):\n",
        "        augmented_img = augmentations(image=img)[\"image\"]\n",
        "        aug_img_name = img_name.replace(\".jpg\", f\"_aug{i}.jpg\")\n",
        "\n",
        "        aug_img_path = os.path.join(augmented_data_dir, aug_img_name)\n",
        "        cv2.imwrite(aug_img_path, cv2.cvtColor(augmented_img, cv2.COLOR_RGB2BGR))\n",
        "\n",
        "        # Store mapping (augmented image -> original transcript)\n",
        "        augmented_pairs.append((aug_img_path, text_path))\n",
        "\n",
        "# Check dataset size\n",
        "print(f\"Total augmented dataset size: {len(augmented_pairs)} images\")"
      ],
      "metadata": {
        "colab": {
          "base_uri": "https://localhost:8080/"
        },
        "id": "RKu5ii3i-9Gc",
        "outputId": "18b5f9e0-cedf-4921-96b4-950ee2f82d1d"
      },
      "execution_count": null,
      "outputs": [
        {
          "output_type": "stream",
          "name": "stderr",
          "text": [
            "<ipython-input-3-985981d802fa>:10: UserWarning: Argument(s) 'var_limit' are not valid for transform GaussNoise\n",
            "  A.GaussNoise(var_limit=(10.0, 50.0), p=0.4),  # Inject noise\n",
            "100%|██████████| 14/14 [02:07<00:00,  9.13s/it]"
          ]
        },
        {
          "output_type": "stream",
          "name": "stdout",
          "text": [
            "Total augmented dataset size: 154 images\n"
          ]
        },
        {
          "output_type": "stream",
          "name": "stderr",
          "text": [
            "\n"
          ]
        }
      ]
    },
    {
      "cell_type": "code",
      "source": [
        "\n",
        "for i, (img, txt) in enumerate(augmented_pairs[:5]):\n",
        "    print(f\"Augmented Sample {i+1}:\")\n",
        "    print(f\"  Image Path    : {img}\")\n",
        "    print(f\"  Transcript Path: {txt}\")\n",
        "    print(\"-\" * 50)"
      ],
      "metadata": {
        "colab": {
          "base_uri": "https://localhost:8080/"
        },
        "id": "8L5pRwpvm8Kf",
        "outputId": "ad242420-5d2c-4cab-c2a4-c1b92d1ea326"
      },
      "execution_count": null,
      "outputs": [
        {
          "output_type": "stream",
          "name": "stdout",
          "text": [
            "Augmented Sample 1:\n",
            "  Image Path    : /content/drive/MyDrive/human_ai_folder/augmented_images/Buendia-page_1.jpg\n",
            "  Transcript Path: /content/drive/MyDrive/human_ai_folder/transcripts/transcript_Buendia/page1.txt\n",
            "--------------------------------------------------\n",
            "Augmented Sample 2:\n",
            "  Image Path    : /content/drive/MyDrive/human_ai_folder/augmented_images/Buendia-page_1_aug1.jpg\n",
            "  Transcript Path: /content/drive/MyDrive/human_ai_folder/transcripts/transcript_Buendia/page1.txt\n",
            "--------------------------------------------------\n",
            "Augmented Sample 3:\n",
            "  Image Path    : /content/drive/MyDrive/human_ai_folder/augmented_images/Buendia-page_1_aug2.jpg\n",
            "  Transcript Path: /content/drive/MyDrive/human_ai_folder/transcripts/transcript_Buendia/page1.txt\n",
            "--------------------------------------------------\n",
            "Augmented Sample 4:\n",
            "  Image Path    : /content/drive/MyDrive/human_ai_folder/augmented_images/Buendia-page_1_aug3.jpg\n",
            "  Transcript Path: /content/drive/MyDrive/human_ai_folder/transcripts/transcript_Buendia/page1.txt\n",
            "--------------------------------------------------\n",
            "Augmented Sample 5:\n",
            "  Image Path    : /content/drive/MyDrive/human_ai_folder/augmented_images/Buendia-page_1_aug4.jpg\n",
            "  Transcript Path: /content/drive/MyDrive/human_ai_folder/transcripts/transcript_Buendia/page1.txt\n",
            "--------------------------------------------------\n"
          ]
        }
      ]
    },
    {
      "cell_type": "code",
      "source": [
        "!pip install transformers torch torchvision Pillow datasets"
      ],
      "metadata": {
        "colab": {
          "base_uri": "https://localhost:8080/"
        },
        "id": "OSEWx9rnuWX7",
        "outputId": "81e61a4d-55bd-4f8e-ea1b-ea48bfa683b4"
      },
      "execution_count": null,
      "outputs": [
        {
          "output_type": "stream",
          "name": "stdout",
          "text": [
            "Requirement already satisfied: transformers in /usr/local/lib/python3.11/dist-packages (4.50.3)\n",
            "Requirement already satisfied: torch in /usr/local/lib/python3.11/dist-packages (2.6.0+cu124)\n",
            "Requirement already satisfied: torchvision in /usr/local/lib/python3.11/dist-packages (0.21.0+cu124)\n",
            "Requirement already satisfied: Pillow in /usr/local/lib/python3.11/dist-packages (11.1.0)\n",
            "Collecting datasets\n",
            "  Downloading datasets-3.5.0-py3-none-any.whl.metadata (19 kB)\n",
            "Requirement already satisfied: filelock in /usr/local/lib/python3.11/dist-packages (from transformers) (3.18.0)\n",
            "Requirement already satisfied: huggingface-hub<1.0,>=0.26.0 in /usr/local/lib/python3.11/dist-packages (from transformers) (0.30.1)\n",
            "Requirement already satisfied: numpy>=1.17 in /usr/local/lib/python3.11/dist-packages (from transformers) (2.0.2)\n",
            "Requirement already satisfied: packaging>=20.0 in /usr/local/lib/python3.11/dist-packages (from transformers) (24.2)\n",
            "Requirement already satisfied: pyyaml>=5.1 in /usr/local/lib/python3.11/dist-packages (from transformers) (6.0.2)\n",
            "Requirement already satisfied: regex!=2019.12.17 in /usr/local/lib/python3.11/dist-packages (from transformers) (2024.11.6)\n",
            "Requirement already satisfied: requests in /usr/local/lib/python3.11/dist-packages (from transformers) (2.32.3)\n",
            "Requirement already satisfied: tokenizers<0.22,>=0.21 in /usr/local/lib/python3.11/dist-packages (from transformers) (0.21.1)\n",
            "Requirement already satisfied: safetensors>=0.4.3 in /usr/local/lib/python3.11/dist-packages (from transformers) (0.5.3)\n",
            "Requirement already satisfied: tqdm>=4.27 in /usr/local/lib/python3.11/dist-packages (from transformers) (4.67.1)\n",
            "Requirement already satisfied: typing-extensions>=4.10.0 in /usr/local/lib/python3.11/dist-packages (from torch) (4.13.1)\n",
            "Requirement already satisfied: networkx in /usr/local/lib/python3.11/dist-packages (from torch) (3.4.2)\n",
            "Requirement already satisfied: jinja2 in /usr/local/lib/python3.11/dist-packages (from torch) (3.1.6)\n",
            "Requirement already satisfied: fsspec in /usr/local/lib/python3.11/dist-packages (from torch) (2025.3.2)\n",
            "Collecting nvidia-cuda-nvrtc-cu12==12.4.127 (from torch)\n",
            "  Downloading nvidia_cuda_nvrtc_cu12-12.4.127-py3-none-manylinux2014_x86_64.whl.metadata (1.5 kB)\n",
            "Collecting nvidia-cuda-runtime-cu12==12.4.127 (from torch)\n",
            "  Downloading nvidia_cuda_runtime_cu12-12.4.127-py3-none-manylinux2014_x86_64.whl.metadata (1.5 kB)\n",
            "Collecting nvidia-cuda-cupti-cu12==12.4.127 (from torch)\n",
            "  Downloading nvidia_cuda_cupti_cu12-12.4.127-py3-none-manylinux2014_x86_64.whl.metadata (1.6 kB)\n",
            "Collecting nvidia-cudnn-cu12==9.1.0.70 (from torch)\n",
            "  Downloading nvidia_cudnn_cu12-9.1.0.70-py3-none-manylinux2014_x86_64.whl.metadata (1.6 kB)\n",
            "Collecting nvidia-cublas-cu12==12.4.5.8 (from torch)\n",
            "  Downloading nvidia_cublas_cu12-12.4.5.8-py3-none-manylinux2014_x86_64.whl.metadata (1.5 kB)\n",
            "Collecting nvidia-cufft-cu12==11.2.1.3 (from torch)\n",
            "  Downloading nvidia_cufft_cu12-11.2.1.3-py3-none-manylinux2014_x86_64.whl.metadata (1.5 kB)\n",
            "Collecting nvidia-curand-cu12==10.3.5.147 (from torch)\n",
            "  Downloading nvidia_curand_cu12-10.3.5.147-py3-none-manylinux2014_x86_64.whl.metadata (1.5 kB)\n",
            "Collecting nvidia-cusolver-cu12==11.6.1.9 (from torch)\n",
            "  Downloading nvidia_cusolver_cu12-11.6.1.9-py3-none-manylinux2014_x86_64.whl.metadata (1.6 kB)\n",
            "Collecting nvidia-cusparse-cu12==12.3.1.170 (from torch)\n",
            "  Downloading nvidia_cusparse_cu12-12.3.1.170-py3-none-manylinux2014_x86_64.whl.metadata (1.6 kB)\n",
            "Requirement already satisfied: nvidia-cusparselt-cu12==0.6.2 in /usr/local/lib/python3.11/dist-packages (from torch) (0.6.2)\n",
            "Requirement already satisfied: nvidia-nccl-cu12==2.21.5 in /usr/local/lib/python3.11/dist-packages (from torch) (2.21.5)\n",
            "Requirement already satisfied: nvidia-nvtx-cu12==12.4.127 in /usr/local/lib/python3.11/dist-packages (from torch) (12.4.127)\n",
            "Collecting nvidia-nvjitlink-cu12==12.4.127 (from torch)\n",
            "  Downloading nvidia_nvjitlink_cu12-12.4.127-py3-none-manylinux2014_x86_64.whl.metadata (1.5 kB)\n",
            "Requirement already satisfied: triton==3.2.0 in /usr/local/lib/python3.11/dist-packages (from torch) (3.2.0)\n",
            "Requirement already satisfied: sympy==1.13.1 in /usr/local/lib/python3.11/dist-packages (from torch) (1.13.1)\n",
            "Requirement already satisfied: mpmath<1.4,>=1.1.0 in /usr/local/lib/python3.11/dist-packages (from sympy==1.13.1->torch) (1.3.0)\n",
            "Requirement already satisfied: pyarrow>=15.0.0 in /usr/local/lib/python3.11/dist-packages (from datasets) (18.1.0)\n",
            "Collecting dill<0.3.9,>=0.3.0 (from datasets)\n",
            "  Downloading dill-0.3.8-py3-none-any.whl.metadata (10 kB)\n",
            "Requirement already satisfied: pandas in /usr/local/lib/python3.11/dist-packages (from datasets) (2.2.2)\n",
            "Collecting xxhash (from datasets)\n",
            "  Downloading xxhash-3.5.0-cp311-cp311-manylinux_2_17_x86_64.manylinux2014_x86_64.whl.metadata (12 kB)\n",
            "Collecting multiprocess<0.70.17 (from datasets)\n",
            "  Downloading multiprocess-0.70.16-py311-none-any.whl.metadata (7.2 kB)\n",
            "Collecting fsspec (from torch)\n",
            "  Downloading fsspec-2024.12.0-py3-none-any.whl.metadata (11 kB)\n",
            "Requirement already satisfied: aiohttp in /usr/local/lib/python3.11/dist-packages (from datasets) (3.11.15)\n",
            "Requirement already satisfied: aiohappyeyeballs>=2.3.0 in /usr/local/lib/python3.11/dist-packages (from aiohttp->datasets) (2.6.1)\n",
            "Requirement already satisfied: aiosignal>=1.1.2 in /usr/local/lib/python3.11/dist-packages (from aiohttp->datasets) (1.3.2)\n",
            "Requirement already satisfied: attrs>=17.3.0 in /usr/local/lib/python3.11/dist-packages (from aiohttp->datasets) (25.3.0)\n",
            "Requirement already satisfied: frozenlist>=1.1.1 in /usr/local/lib/python3.11/dist-packages (from aiohttp->datasets) (1.5.0)\n",
            "Requirement already satisfied: multidict<7.0,>=4.5 in /usr/local/lib/python3.11/dist-packages (from aiohttp->datasets) (6.2.0)\n",
            "Requirement already satisfied: propcache>=0.2.0 in /usr/local/lib/python3.11/dist-packages (from aiohttp->datasets) (0.3.1)\n",
            "Requirement already satisfied: yarl<2.0,>=1.17.0 in /usr/local/lib/python3.11/dist-packages (from aiohttp->datasets) (1.18.3)\n",
            "Requirement already satisfied: charset-normalizer<4,>=2 in /usr/local/lib/python3.11/dist-packages (from requests->transformers) (3.4.1)\n",
            "Requirement already satisfied: idna<4,>=2.5 in /usr/local/lib/python3.11/dist-packages (from requests->transformers) (3.10)\n",
            "Requirement already satisfied: urllib3<3,>=1.21.1 in /usr/local/lib/python3.11/dist-packages (from requests->transformers) (2.3.0)\n",
            "Requirement already satisfied: certifi>=2017.4.17 in /usr/local/lib/python3.11/dist-packages (from requests->transformers) (2025.1.31)\n",
            "Requirement already satisfied: MarkupSafe>=2.0 in /usr/local/lib/python3.11/dist-packages (from jinja2->torch) (3.0.2)\n",
            "Requirement already satisfied: python-dateutil>=2.8.2 in /usr/local/lib/python3.11/dist-packages (from pandas->datasets) (2.8.2)\n",
            "Requirement already satisfied: pytz>=2020.1 in /usr/local/lib/python3.11/dist-packages (from pandas->datasets) (2025.2)\n",
            "Requirement already satisfied: tzdata>=2022.7 in /usr/local/lib/python3.11/dist-packages (from pandas->datasets) (2025.2)\n",
            "Requirement already satisfied: six>=1.5 in /usr/local/lib/python3.11/dist-packages (from python-dateutil>=2.8.2->pandas->datasets) (1.17.0)\n",
            "Downloading nvidia_cublas_cu12-12.4.5.8-py3-none-manylinux2014_x86_64.whl (363.4 MB)\n",
            "\u001b[2K   \u001b[90m━━━━━━━━━━━━━━━━━━━━━━━━━━━━━━━━━━━━━━━━\u001b[0m \u001b[32m363.4/363.4 MB\u001b[0m \u001b[31m3.2 MB/s\u001b[0m eta \u001b[36m0:00:00\u001b[0m\n",
            "\u001b[?25hDownloading nvidia_cuda_cupti_cu12-12.4.127-py3-none-manylinux2014_x86_64.whl (13.8 MB)\n",
            "\u001b[2K   \u001b[90m━━━━━━━━━━━━━━━━━━━━━━━━━━━━━━━━━━━━━━━━\u001b[0m \u001b[32m13.8/13.8 MB\u001b[0m \u001b[31m91.3 MB/s\u001b[0m eta \u001b[36m0:00:00\u001b[0m\n",
            "\u001b[?25hDownloading nvidia_cuda_nvrtc_cu12-12.4.127-py3-none-manylinux2014_x86_64.whl (24.6 MB)\n",
            "\u001b[2K   \u001b[90m━━━━━━━━━━━━━━━━━━━━━━━━━━━━━━━━━━━━━━━━\u001b[0m \u001b[32m24.6/24.6 MB\u001b[0m \u001b[31m27.8 MB/s\u001b[0m eta \u001b[36m0:00:00\u001b[0m\n",
            "\u001b[?25hDownloading nvidia_cuda_runtime_cu12-12.4.127-py3-none-manylinux2014_x86_64.whl (883 kB)\n",
            "\u001b[2K   \u001b[90m━━━━━━━━━━━━━━━━━━━━━━━━━━━━━━━━━━━━━━━━\u001b[0m \u001b[32m883.7/883.7 kB\u001b[0m \u001b[31m42.3 MB/s\u001b[0m eta \u001b[36m0:00:00\u001b[0m\n",
            "\u001b[?25hDownloading nvidia_cudnn_cu12-9.1.0.70-py3-none-manylinux2014_x86_64.whl (664.8 MB)\n",
            "\u001b[2K   \u001b[90m━━━━━━━━━━━━━━━━━━━━━━━━━━━━━━━━━━━━━━━━\u001b[0m \u001b[32m664.8/664.8 MB\u001b[0m \u001b[31m2.1 MB/s\u001b[0m eta \u001b[36m0:00:00\u001b[0m\n",
            "\u001b[?25hDownloading nvidia_cufft_cu12-11.2.1.3-py3-none-manylinux2014_x86_64.whl (211.5 MB)\n",
            "\u001b[2K   \u001b[90m━━━━━━━━━━━━━━━━━━━━━━━━━━━━━━━━━━━━━━━━\u001b[0m \u001b[32m211.5/211.5 MB\u001b[0m \u001b[31m6.0 MB/s\u001b[0m eta \u001b[36m0:00:00\u001b[0m\n",
            "\u001b[?25hDownloading nvidia_curand_cu12-10.3.5.147-py3-none-manylinux2014_x86_64.whl (56.3 MB)\n",
            "\u001b[2K   \u001b[90m━━━━━━━━━━━━━━━━━━━━━━━━━━━━━━━━━━━━━━━━\u001b[0m \u001b[32m56.3/56.3 MB\u001b[0m \u001b[31m19.3 MB/s\u001b[0m eta \u001b[36m0:00:00\u001b[0m\n",
            "\u001b[?25hDownloading nvidia_cusolver_cu12-11.6.1.9-py3-none-manylinux2014_x86_64.whl (127.9 MB)\n",
            "\u001b[2K   \u001b[90m━━━━━━━━━━━━━━━━━━━━━━━━━━━━━━━━━━━━━━━━\u001b[0m \u001b[32m127.9/127.9 MB\u001b[0m \u001b[31m7.5 MB/s\u001b[0m eta \u001b[36m0:00:00\u001b[0m\n",
            "\u001b[?25hDownloading nvidia_cusparse_cu12-12.3.1.170-py3-none-manylinux2014_x86_64.whl (207.5 MB)\n",
            "\u001b[2K   \u001b[90m━━━━━━━━━━━━━━━━━━━━━━━━━━━━━━━━━━━━━━━━\u001b[0m \u001b[32m207.5/207.5 MB\u001b[0m \u001b[31m6.4 MB/s\u001b[0m eta \u001b[36m0:00:00\u001b[0m\n",
            "\u001b[?25hDownloading nvidia_nvjitlink_cu12-12.4.127-py3-none-manylinux2014_x86_64.whl (21.1 MB)\n",
            "\u001b[2K   \u001b[90m━━━━━━━━━━━━━━━━━━━━━━━━━━━━━━━━━━━━━━━━\u001b[0m \u001b[32m21.1/21.1 MB\u001b[0m \u001b[31m81.6 MB/s\u001b[0m eta \u001b[36m0:00:00\u001b[0m\n",
            "\u001b[?25hDownloading datasets-3.5.0-py3-none-any.whl (491 kB)\n",
            "\u001b[2K   \u001b[90m━━━━━━━━━━━━━━━━━━━━━━━━━━━━━━━━━━━━━━━━\u001b[0m \u001b[32m491.2/491.2 kB\u001b[0m \u001b[31m30.7 MB/s\u001b[0m eta \u001b[36m0:00:00\u001b[0m\n",
            "\u001b[?25hDownloading dill-0.3.8-py3-none-any.whl (116 kB)\n",
            "\u001b[2K   \u001b[90m━━━━━━━━━━━━━━━━━━━━━━━━━━━━━━━━━━━━━━━━\u001b[0m \u001b[32m116.3/116.3 kB\u001b[0m \u001b[31m9.4 MB/s\u001b[0m eta \u001b[36m0:00:00\u001b[0m\n",
            "\u001b[?25hDownloading fsspec-2024.12.0-py3-none-any.whl (183 kB)\n",
            "\u001b[2K   \u001b[90m━━━━━━━━━━━━━━━━━━━━━━━━━━━━━━━━━━━━━━━━\u001b[0m \u001b[32m183.9/183.9 kB\u001b[0m \u001b[31m14.8 MB/s\u001b[0m eta \u001b[36m0:00:00\u001b[0m\n",
            "\u001b[?25hDownloading multiprocess-0.70.16-py311-none-any.whl (143 kB)\n",
            "\u001b[2K   \u001b[90m━━━━━━━━━━━━━━━━━━━━━━━━━━━━━━━━━━━━━━━━\u001b[0m \u001b[32m143.5/143.5 kB\u001b[0m \u001b[31m11.5 MB/s\u001b[0m eta \u001b[36m0:00:00\u001b[0m\n",
            "\u001b[?25hDownloading xxhash-3.5.0-cp311-cp311-manylinux_2_17_x86_64.manylinux2014_x86_64.whl (194 kB)\n",
            "\u001b[2K   \u001b[90m━━━━━━━━━━━━━━━━━━━━━━━━━━━━━━━━━━━━━━━━\u001b[0m \u001b[32m194.8/194.8 kB\u001b[0m \u001b[31m13.4 MB/s\u001b[0m eta \u001b[36m0:00:00\u001b[0m\n",
            "\u001b[?25hInstalling collected packages: xxhash, nvidia-nvjitlink-cu12, nvidia-curand-cu12, nvidia-cufft-cu12, nvidia-cuda-runtime-cu12, nvidia-cuda-nvrtc-cu12, nvidia-cuda-cupti-cu12, nvidia-cublas-cu12, fsspec, dill, nvidia-cusparse-cu12, nvidia-cudnn-cu12, multiprocess, nvidia-cusolver-cu12, datasets\n",
            "  Attempting uninstall: nvidia-nvjitlink-cu12\n",
            "    Found existing installation: nvidia-nvjitlink-cu12 12.5.82\n",
            "    Uninstalling nvidia-nvjitlink-cu12-12.5.82:\n",
            "      Successfully uninstalled nvidia-nvjitlink-cu12-12.5.82\n",
            "  Attempting uninstall: nvidia-curand-cu12\n",
            "    Found existing installation: nvidia-curand-cu12 10.3.6.82\n",
            "    Uninstalling nvidia-curand-cu12-10.3.6.82:\n",
            "      Successfully uninstalled nvidia-curand-cu12-10.3.6.82\n",
            "  Attempting uninstall: nvidia-cufft-cu12\n",
            "    Found existing installation: nvidia-cufft-cu12 11.2.3.61\n",
            "    Uninstalling nvidia-cufft-cu12-11.2.3.61:\n",
            "      Successfully uninstalled nvidia-cufft-cu12-11.2.3.61\n",
            "  Attempting uninstall: nvidia-cuda-runtime-cu12\n",
            "    Found existing installation: nvidia-cuda-runtime-cu12 12.5.82\n",
            "    Uninstalling nvidia-cuda-runtime-cu12-12.5.82:\n",
            "      Successfully uninstalled nvidia-cuda-runtime-cu12-12.5.82\n",
            "  Attempting uninstall: nvidia-cuda-nvrtc-cu12\n",
            "    Found existing installation: nvidia-cuda-nvrtc-cu12 12.5.82\n",
            "    Uninstalling nvidia-cuda-nvrtc-cu12-12.5.82:\n",
            "      Successfully uninstalled nvidia-cuda-nvrtc-cu12-12.5.82\n",
            "  Attempting uninstall: nvidia-cuda-cupti-cu12\n",
            "    Found existing installation: nvidia-cuda-cupti-cu12 12.5.82\n",
            "    Uninstalling nvidia-cuda-cupti-cu12-12.5.82:\n",
            "      Successfully uninstalled nvidia-cuda-cupti-cu12-12.5.82\n",
            "  Attempting uninstall: nvidia-cublas-cu12\n",
            "    Found existing installation: nvidia-cublas-cu12 12.5.3.2\n",
            "    Uninstalling nvidia-cublas-cu12-12.5.3.2:\n",
            "      Successfully uninstalled nvidia-cublas-cu12-12.5.3.2\n",
            "  Attempting uninstall: fsspec\n",
            "    Found existing installation: fsspec 2025.3.2\n",
            "    Uninstalling fsspec-2025.3.2:\n",
            "      Successfully uninstalled fsspec-2025.3.2\n",
            "  Attempting uninstall: nvidia-cusparse-cu12\n",
            "    Found existing installation: nvidia-cusparse-cu12 12.5.1.3\n",
            "    Uninstalling nvidia-cusparse-cu12-12.5.1.3:\n",
            "      Successfully uninstalled nvidia-cusparse-cu12-12.5.1.3\n",
            "  Attempting uninstall: nvidia-cudnn-cu12\n",
            "    Found existing installation: nvidia-cudnn-cu12 9.3.0.75\n",
            "    Uninstalling nvidia-cudnn-cu12-9.3.0.75:\n",
            "      Successfully uninstalled nvidia-cudnn-cu12-9.3.0.75\n",
            "  Attempting uninstall: nvidia-cusolver-cu12\n",
            "    Found existing installation: nvidia-cusolver-cu12 11.6.3.83\n",
            "    Uninstalling nvidia-cusolver-cu12-11.6.3.83:\n",
            "      Successfully uninstalled nvidia-cusolver-cu12-11.6.3.83\n",
            "\u001b[31mERROR: pip's dependency resolver does not currently take into account all the packages that are installed. This behaviour is the source of the following dependency conflicts.\n",
            "gcsfs 2025.3.2 requires fsspec==2025.3.2, but you have fsspec 2024.12.0 which is incompatible.\u001b[0m\u001b[31m\n",
            "\u001b[0mSuccessfully installed datasets-3.5.0 dill-0.3.8 fsspec-2024.12.0 multiprocess-0.70.16 nvidia-cublas-cu12-12.4.5.8 nvidia-cuda-cupti-cu12-12.4.127 nvidia-cuda-nvrtc-cu12-12.4.127 nvidia-cuda-runtime-cu12-12.4.127 nvidia-cudnn-cu12-9.1.0.70 nvidia-cufft-cu12-11.2.1.3 nvidia-curand-cu12-10.3.5.147 nvidia-cusolver-cu12-11.6.1.9 nvidia-cusparse-cu12-12.3.1.170 nvidia-nvjitlink-cu12-12.4.127 xxhash-3.5.0\n"
          ]
        }
      ]
    },
    {
      "cell_type": "code",
      "source": [
        "from torch.utils.data import Dataset\n",
        "from PIL import Image\n",
        "from torch.nn.utils.rnn import pad_sequence\n",
        "import torch\n",
        "\n",
        "class HDRDataset(Dataset):\n",
        "    def __init__(self, image_text_pairs, processor,max_length=768):\n",
        "        self.image_text_pairs = image_text_pairs\n",
        "        self.processor = processor\n",
        "        self.max_length=max_length\n",
        "\n",
        "    def normalize_text(self, text):\n",
        "        \"\"\"Apply historical OCR normalization rules\"\"\"\n",
        "        text = text.replace(\"ſ\", \"s\")  # Long 's' → 's'\n",
        "        text = text.replace(\"ç\", \"z\")  # ç → z\n",
        "        text = text.replace(\"q̄\", \"que\")  # q-macron → que\n",
        "        text = text.replace(\"u\", \"v\") if \"v\" in text else text.replace(\"v\", \"u\")  # u ↔ v\n",
        "        text = text.translate(str.maketrans(\"áéíóú\", \"aeiou\"))  # Remove accents (except ñ)\n",
        "        return text\n",
        "\n",
        "\n",
        "\n",
        "    def __len__(self):\n",
        "        return len(self.image_text_pairs)\n",
        "\n",
        "\n",
        "    def __getitem__(self, idx):\n",
        "        img_path, text_path = self.image_text_pairs[idx]\n",
        "\n",
        "        # Load image\n",
        "        image = Image.open(img_path).convert(\"RGB\")\n",
        "\n",
        "        # Load text\n",
        "        with open(text_path, \"r\", encoding=\"utf-8\") as f:\n",
        "            text = f.read().strip()\n",
        "\n",
        "        text = self.normalize_text(text)\n",
        "\n",
        "\n",
        "        # Process image and text\n",
        "        encoding = self.processor(\n",
        "            image,\n",
        "            text,\n",
        "            padding=\"max_length\",\n",
        "            truncation=True,\n",
        "            max_length=self.max_length,\n",
        "            return_tensors=\"pt\"\n",
        "            )\n",
        "\n",
        "        return {\n",
        "            \"pixel_values\": encoding[\"pixel_values\"].squeeze(0),  # Image tensor\n",
        "            \"labels\": encoding[\"labels\"].squeeze(0),        # Tokenized text\n",
        "            }\n",
        "\n",
        "\n",
        "\n",
        "def collate_fn(batch):\n",
        "    pixel_values = torch.stack([item['pixel_values'] for item in batch])\n",
        "\n",
        "    labels = pad_sequence([item['labels'] for item in batch], batch_first=True, padding_value=-100)\n",
        "    return {'pixel_values': pixel_values, 'labels': labels}"
      ],
      "metadata": {
        "id": "Y1KmJZHQs-UP"
      },
      "execution_count": null,
      "outputs": []
    },
    {
      "cell_type": "code",
      "source": [
        "from torchvision import transforms\n",
        "class HDRProcessor:\n",
        "    def __init__(self, tokenizer, image_size=(384, 384)):\n",
        "        self.tokenizer = tokenizer\n",
        "        self.transform = transforms.Compose([\n",
        "            transforms.Resize(image_size),\n",
        "            transforms.ToTensor(),\n",
        "            transforms.Normalize(mean=[0.5], std=[0.5])\n",
        "        ])\n",
        "\n",
        "    def __call__(self, image, text, padding, truncation, max_length, return_tensors):\n",
        "        image_tensor = self.transform(image)\n",
        "        tokenized = self.tokenizer(\n",
        "            text,\n",
        "            padding=padding,\n",
        "            truncation=truncation,\n",
        "            max_length=max_length,\n",
        "            return_tensors=return_tensors\n",
        "        )\n",
        "        return {\n",
        "            \"pixel_values\": image_tensor,\n",
        "            \"labels\": tokenized[\"input_ids\"]\n",
        "        }\n"
      ],
      "metadata": {
        "id": "d3M0Xm2tDEB4"
      },
      "execution_count": null,
      "outputs": []
    },
    {
      "cell_type": "code",
      "source": [
        "class CharTokenizer:\n",
        "    def __init__(self, chars, max_length=512):\n",
        "        self.special_tokens = [\"<pad>\", \"<sos>\", \"<eos>\", \"<unk>\"]\n",
        "        self.vocab = {ch: idx + len(self.special_tokens) for idx, ch in enumerate(chars)}\n",
        "        for idx, token in enumerate(self.special_tokens):\n",
        "            self.vocab[token] = idx\n",
        "\n",
        "        self.inv_vocab = {idx: tok for tok, idx in self.vocab.items()}\n",
        "        self.pad_token_id = self.vocab[\"<pad>\"]\n",
        "        self.sos_token_id = self.vocab[\"<sos>\"]\n",
        "        self.eos_token_id = self.vocab[\"<eos>\"]\n",
        "        self.unk_token_id = self.vocab[\"<unk>\"]\n",
        "        self.max_length = max_length\n",
        "\n",
        "    def encode(self, text):\n",
        "        tokens = [self.sos_token_id]\n",
        "        for ch in text:\n",
        "            tokens.append(self.vocab.get(ch, self.unk_token_id))\n",
        "        tokens.append(self.eos_token_id)\n",
        "        return tokens\n",
        "\n",
        "    def __call__(self, text, padding=\"max_length\", truncation=True, max_length=None, return_tensors=None):\n",
        "        max_len = max_length or self.max_length\n",
        "        token_ids = self.encode(text)\n",
        "\n",
        "        if truncation:\n",
        "            token_ids = token_ids[:max_len]\n",
        "\n",
        "        if padding == \"max_length\":\n",
        "            pad_len = max_len - len(token_ids)\n",
        "            token_ids += [self.pad_token_id] * pad_len\n",
        "\n",
        "        if return_tensors == \"pt\":\n",
        "            return {\"input_ids\": torch.tensor(token_ids, dtype=torch.long)}\n",
        "        return {\"input_ids\": token_ids}\n",
        "\n",
        "    def decode(self, token_ids):\n",
        "        return \"\".join([self.inv_vocab.get(idx, \"\") for idx in token_ids if idx not in [self.pad_token_id, self.sos_token_id, self.eos_token_id]])\n",
        "\n",
        "    def vocab_size(self):\n",
        "        return len(self.vocab)\n"
      ],
      "metadata": {
        "id": "1EnyEJKlt7VZ"
      },
      "execution_count": null,
      "outputs": []
    },
    {
      "cell_type": "code",
      "source": [
        "from collections import Counter\n",
        "\n",
        "def build_charset(image_text_pairs):\n",
        "    all_chars = Counter()\n",
        "    for _, text_path in image_text_pairs:\n",
        "        with open(text_path, 'r', encoding='utf-8') as f:\n",
        "            text = f.read()\n",
        "            all_chars.update(text)\n",
        "    return sorted(list(set(all_chars)))"
      ],
      "metadata": {
        "id": "7TvS_mt3wCHX"
      },
      "execution_count": null,
      "outputs": []
    },
    {
      "cell_type": "code",
      "source": [
        "charset = build_charset(image_text_pairs)\n",
        "tokenizer = CharTokenizer(chars=charset)"
      ],
      "metadata": {
        "id": "7JFzsfPV0gAM"
      },
      "execution_count": null,
      "outputs": []
    },
    {
      "cell_type": "code",
      "source": [
        "import matplotlib.pyplot as plt\n",
        "from PIL import Image\n",
        "import random\n",
        "\n",
        "# Select a random image-text pair\n",
        "img_path, txt_path = random.choice(augmented_pairs)\n",
        "\n",
        "# Display the image\n",
        "img = Image.open(img_path)\n",
        "plt.imshow(img)\n",
        "plt.axis(\"off\")\n",
        "plt.show()\n",
        "\n",
        "# Read and print corresponding text\n",
        "with open(txt_path, \"r\", encoding=\"utf-8\") as f:\n",
        "    text = f.read()\n",
        "print(f\"Extracted Text:\\n{text}\")"
      ],
      "metadata": {
        "colab": {
          "base_uri": "https://localhost:8080/",
          "height": 805
        },
        "id": "MRosw6hzxbET",
        "outputId": "3b63d251-43b0-4926-9717-95d46df44a81"
      },
      "execution_count": null,
      "outputs": [
        {
          "output_type": "display_data",
          "data": {
            "text/plain": [
              "<Figure size 640x480 with 1 Axes>"
            ],
            "image/png": "[encoded data removed]"
          },
          "metadata": {}
        },
        {
          "output_type": "stream",
          "name": "stdout",
          "text": [
            "Extracted Text:\n",
            "Al\n",
            "INFINITAMENTE AMABLE\n",
            "NIÑO JESUS.\n",
            "A Vos, Dulcissimo Niño\n",
            "JESUS, que no solo os\n",
            "dignasteis de llamaros\n",
            "Doctor de los Niños, \n",
            "sino también de assis-\n",
            "tir como Niño entre los Doctores, \n",
            "se consagra humilde esta pequeña\n",
            "Instrucción de los Niños. Es assi, \n",
            "que ella también se dirige a la ju-\n",
            "ventud; pero a esta, como recuer-\n",
            "do de lo que aprendió, a los Ni-\n",
            "ños, como precisa explicacion de \n",
            "lo que deben estudiar. Por este so-\n",
            "lo titulo es muy vuestra; y por\n",
            "ser para Niños, que confiais a la\n",
            "educacion de vuestra Compañia, \n",
            "lo es mucho mas. En Vos, (Divi-\n",
            "no Exemplar de todas las virtu-\n",
            "des) tienen abreviado el mas se-\n"
          ]
        }
      ]
    },
    {
      "cell_type": "code",
      "source": [
        "tokenizer = CharTokenizer(charset)\n",
        "\n",
        "# Encode a sample text\n",
        "sample_text = \"jig gvv kjhhi wet\"\n",
        "enc = tokenizer(sample_text, return_tensors=\"pt\")\n",
        "print(\"Encoded:\", enc[\"input_ids\"])\n",
        "\n",
        "# Decode to verify\n",
        "decoded = tokenizer.decode(enc[\"input_ids\"].tolist())\n",
        "print(\"Decoded:\", decoded)"
      ],
      "metadata": {
        "colab": {
          "base_uri": "https://localhost:8080/"
        },
        "id": "_oRLPWfby3mi",
        "outputId": "3553ece6-c969-4265-c684-330989ded3eb"
      },
      "execution_count": null,
      "outputs": [
        {
          "output_type": "stream",
          "name": "stdout",
          "text": [
            "Encoded: tensor([ 1, 58, 57, 55,  6, 55, 69, 69,  6,  3, 58, 56, 56, 57,  6,  3, 53, 67,\n",
            "         2,  0,  0,  0,  0,  0,  0,  0,  0,  0,  0,  0,  0,  0,  0,  0,  0,  0,\n",
            "         0,  0,  0,  0,  0,  0,  0,  0,  0,  0,  0,  0,  0,  0,  0,  0,  0,  0,\n",
            "         0,  0,  0,  0,  0,  0,  0,  0,  0,  0,  0,  0,  0,  0,  0,  0,  0,  0,\n",
            "         0,  0,  0,  0,  0,  0,  0,  0,  0,  0,  0,  0,  0,  0,  0,  0,  0,  0,\n",
            "         0,  0,  0,  0,  0,  0,  0,  0,  0,  0,  0,  0,  0,  0,  0,  0,  0,  0,\n",
            "         0,  0,  0,  0,  0,  0,  0,  0,  0,  0,  0,  0,  0,  0,  0,  0,  0,  0,\n",
            "         0,  0,  0,  0,  0,  0,  0,  0,  0,  0,  0,  0,  0,  0,  0,  0,  0,  0,\n",
            "         0,  0,  0,  0,  0,  0,  0,  0,  0,  0,  0,  0,  0,  0,  0,  0,  0,  0,\n",
            "         0,  0,  0,  0,  0,  0,  0,  0,  0,  0,  0,  0,  0,  0,  0,  0,  0,  0,\n",
            "         0,  0,  0,  0,  0,  0,  0,  0,  0,  0,  0,  0,  0,  0,  0,  0,  0,  0,\n",
            "         0,  0,  0,  0,  0,  0,  0,  0,  0,  0,  0,  0,  0,  0,  0,  0,  0,  0,\n",
            "         0,  0,  0,  0,  0,  0,  0,  0,  0,  0,  0,  0,  0,  0,  0,  0,  0,  0,\n",
            "         0,  0,  0,  0,  0,  0,  0,  0,  0,  0,  0,  0,  0,  0,  0,  0,  0,  0,\n",
            "         0,  0,  0,  0,  0,  0,  0,  0,  0,  0,  0,  0,  0,  0,  0,  0,  0,  0,\n",
            "         0,  0,  0,  0,  0,  0,  0,  0,  0,  0,  0,  0,  0,  0,  0,  0,  0,  0,\n",
            "         0,  0,  0,  0,  0,  0,  0,  0,  0,  0,  0,  0,  0,  0,  0,  0,  0,  0,\n",
            "         0,  0,  0,  0,  0,  0,  0,  0,  0,  0,  0,  0,  0,  0,  0,  0,  0,  0,\n",
            "         0,  0,  0,  0,  0,  0,  0,  0,  0,  0,  0,  0,  0,  0,  0,  0,  0,  0,\n",
            "         0,  0,  0,  0,  0,  0,  0,  0,  0,  0,  0,  0,  0,  0,  0,  0,  0,  0,\n",
            "         0,  0,  0,  0,  0,  0,  0,  0,  0,  0,  0,  0,  0,  0,  0,  0,  0,  0,\n",
            "         0,  0,  0,  0,  0,  0,  0,  0,  0,  0,  0,  0,  0,  0,  0,  0,  0,  0,\n",
            "         0,  0,  0,  0,  0,  0,  0,  0,  0,  0,  0,  0,  0,  0,  0,  0,  0,  0,\n",
            "         0,  0,  0,  0,  0,  0,  0,  0,  0,  0,  0,  0,  0,  0,  0,  0,  0,  0,\n",
            "         0,  0,  0,  0,  0,  0,  0,  0,  0,  0,  0,  0,  0,  0,  0,  0,  0,  0,\n",
            "         0,  0,  0,  0,  0,  0,  0,  0,  0,  0,  0,  0,  0,  0,  0,  0,  0,  0,\n",
            "         0,  0,  0,  0,  0,  0,  0,  0,  0,  0,  0,  0,  0,  0,  0,  0,  0,  0,\n",
            "         0,  0,  0,  0,  0,  0,  0,  0,  0,  0,  0,  0,  0,  0,  0,  0,  0,  0,\n",
            "         0,  0,  0,  0,  0,  0,  0,  0])\n",
            "Decoded: jig gvv <unk>jhhi <unk>et\n"
          ]
        }
      ]
    },
    {
      "cell_type": "code",
      "source": [
        "# Instantiate the dataset with augmented pairs and processor\n",
        "dataset = HDRDataset(image_text_pairs=augmented_pairs, processor=HDRProcessor(tokenizer))\n",
        "\n",
        "# Get a sample (e.g., sample 0)\n",
        "sample = dataset[0]\n",
        "\n",
        "# Print the output for inspection\n",
        "print(\"Sample Output:\")\n",
        "print(f\"Image Tensor Shape: {sample['pixel_values'].shape}\")\n",
        "print(f\"Tokenized Labels (IDs): {sample['labels']}\")\n",
        "\n",
        "# Decode the label IDs back to text (for validation)\n",
        "decoded_text = tokenizer.decode(sample['labels'].tolist())\n",
        "print(f\"Decoded Text: {decoded_text}\")\n"
      ],
      "metadata": {
        "colab": {
          "base_uri": "https://localhost:8080/"
        },
        "id": "o88nCuqf-icT",
        "outputId": "73ffa657-d478-49d5-8f52-635260f8cdaf"
      },
      "execution_count": null,
      "outputs": [
        {
          "output_type": "stream",
          "name": "stdout",
          "text": [
            "Sample Output:\n",
            "Image Tensor Shape: torch.Size([3, 384, 384])\n",
            "Tokenized Labels (IDs): tensor([ 1, 25, 59,  5, 33, 38, 30, 33, 38, 33, 44, 25, 37, 29, 38, 44, 29,  6,\n",
            "        25, 37, 25, 26, 36, 29,  5, 38, 33, 73, 39,  6, 34, 29, 43, 45, 43, 13,\n",
            "         5, 25,  6, 46, 62, 66, 11,  6, 28, 69, 59, 51, 57, 66, 66, 57, 60, 62,\n",
            "         6, 38, 57, 78, 62,  5, 34, 29, 43, 45, 43, 11,  6, 64, 69, 53,  6, 61,\n",
            "        62,  6, 66, 62, 59, 62,  6, 62, 66,  5, 52, 57, 55, 61, 49, 66, 67, 53,\n",
            "        57, 66,  6, 52, 53,  6, 59, 59, 49, 60, 49, 65, 62, 66,  5, 28, 62, 51,\n",
            "        67, 62, 65,  6, 52, 53,  6, 59, 62, 66,  6, 38, 57, 78, 62, 66, 11,  6,\n",
            "         5, 66, 57, 61, 62,  6, 67, 49, 60, 50, 57, 53, 61,  6, 52, 53,  6, 49,\n",
            "        66, 66, 57, 66, 12,  5, 67, 57, 65,  6, 51, 62, 60, 62,  6, 38, 57, 78,\n",
            "        62,  6, 53, 61, 67, 65, 53,  6, 59, 62, 66,  6, 28, 62, 51, 67, 62, 65,\n",
            "        53, 66, 11,  6,  5, 66, 53,  6, 51, 62, 61, 66, 49, 55, 65, 49,  6, 56,\n",
            "        69, 60, 57, 59, 52, 53,  6, 53, 66, 67, 49,  6, 63, 53, 64, 69, 53, 78,\n",
            "        49,  5, 33, 61, 66, 67, 65, 69, 51, 51, 57, 62, 61,  6, 52, 53,  6, 59,\n",
            "        62, 66,  6, 38, 57, 78, 62, 66, 13,  6, 29, 66,  6, 49, 66, 66, 57, 11,\n",
            "         6,  5, 64, 69, 53,  6, 53, 59, 59, 49,  6, 67, 49, 60, 50, 57, 53, 61,\n",
            "         6, 66, 53,  6, 52, 57, 65, 57, 55, 53,  6, 49,  6, 59, 49,  6, 58, 69,\n",
            "        12,  5, 69, 53, 61, 67, 69, 52, 23,  6, 63, 53, 65, 62,  6, 49,  6, 53,\n",
            "        66, 67, 49, 11,  6, 51, 62, 60, 62,  6, 65, 53, 51, 69, 53, 65, 12,  5,\n",
            "        52, 62,  6, 52, 53,  6, 59, 62,  6, 64, 69, 53,  6, 49, 63, 65, 53, 61,\n",
            "        52, 57, 62, 11,  6, 49,  6, 59, 62, 66,  6, 38, 57, 12,  5, 78, 62, 66,\n",
            "        11,  6, 51, 62, 60, 62,  6, 63, 65, 53, 51, 57, 66, 49,  6, 53, 70, 63,\n",
            "        59, 57, 51, 49, 51, 57, 62, 61,  6, 52, 53,  6,  5, 59, 62,  6, 64, 69,\n",
            "        53,  6, 52, 53, 50, 53, 61,  6, 53, 66, 67, 69, 52, 57, 49, 65, 13,  6,\n",
            "        40, 62, 65,  6, 53, 66, 67, 53,  6, 66, 62, 12,  5, 59, 62,  6, 67, 57,\n",
            "        67, 69, 59, 62,  6, 53, 66,  6, 60, 69, 71,  6, 69, 69, 53, 66, 67, 65,\n",
            "        49, 23,  6, 71,  6, 63, 62, 65,  5, 66, 53, 65,  6, 63, 49, 65, 49,  6,\n",
            "        38, 57, 78, 62, 66, 11,  6, 64, 69, 53,  6, 51, 62, 61, 54, 57, 49, 57,\n",
            "        66,  6, 49,  6, 59, 49,  5, 53, 52, 69, 51, 49, 51, 57, 62, 61,  6, 52,\n",
            "        53,  6, 69, 69, 53, 66, 67, 65, 49,  6, 27, 62, 60, 63, 49, 78, 57, 49,\n",
            "        11,  6,  5, 59, 62,  6, 53, 66,  6, 60, 69, 51, 56, 62,  6, 60, 49, 66,\n",
            "        13,  6, 29, 61,  6, 46, 62, 66, 11,  6,  9, 28, 57, 69, 57, 12,  5, 61,\n",
            "        62,  6, 29, 70, 53, 60, 63, 59, 49, 65,  6, 52, 53,  6, 67, 62, 52, 49,\n",
            "        66,  6, 59, 49, 66,  6, 69, 57, 65, 67, 69, 12,  5, 52, 53, 66, 10,  6,\n",
            "        67, 57, 53, 61, 53, 61,  6, 49, 50, 65, 53, 69, 57, 49, 52, 62,  6, 53,\n",
            "        59,  6, 60, 49, 66,  6, 66, 53, 12,  2,  0,  0,  0,  0,  0,  0,  0,  0,\n",
            "         0,  0,  0,  0,  0,  0,  0,  0,  0,  0,  0,  0,  0,  0,  0,  0,  0,  0,\n",
            "         0,  0,  0,  0,  0,  0,  0,  0,  0,  0,  0,  0,  0,  0,  0,  0,  0,  0,\n",
            "         0,  0,  0,  0,  0,  0,  0,  0,  0,  0,  0,  0,  0,  0,  0,  0,  0,  0,\n",
            "         0,  0,  0,  0,  0,  0,  0,  0,  0,  0,  0,  0,  0,  0,  0,  0,  0,  0,\n",
            "         0,  0,  0,  0,  0,  0,  0,  0,  0,  0,  0,  0,  0,  0,  0,  0,  0,  0,\n",
            "         0,  0,  0,  0,  0,  0,  0,  0,  0,  0,  0,  0,  0,  0,  0,  0,  0,  0,\n",
            "         0,  0,  0,  0,  0,  0,  0,  0,  0,  0,  0,  0,  0,  0,  0,  0,  0,  0,\n",
            "         0,  0,  0,  0,  0,  0,  0,  0,  0,  0,  0,  0])\n",
            "Decoded Text: Al\n",
            "INFINITAMENTE AMABLE\n",
            "NIÑO JESUS.\n",
            "A Vos, Dvlcissimo Niño\n",
            "JESUS, qve no solo os\n",
            "dignasteis de llamaros\n",
            "Doctor de los Niños, \n",
            "sino tambien de assis-\n",
            "tir como Niño entre los Doctores, \n",
            "se consagra hvmilde esta peqveña\n",
            "Instrvccion de los Niños. Es assi, \n",
            "qve ella tambien se dirige a la jv-\n",
            "ventvd; pero a esta, como recver-\n",
            "do de lo qve aprendio, a los Ni-\n",
            "ños, como precisa explicacion de \n",
            "lo qve deben estvdiar. Por este so-\n",
            "lo titvlo es mvy vvestra; y por\n",
            "ser para Niños, qve confiais a la\n",
            "edvcacion de vvestra Compañia, \n",
            "lo es mvcho mas. En Vos, (Divi-\n",
            "no Exemplar de todas las virtv-\n",
            "des) tienen abreviado el mas se-\n"
          ]
        }
      ]
    },
    {
      "cell_type": "markdown",
      "source": [
        "# Making the FCN encoder\n"
      ],
      "metadata": {
        "id": "B443hjrNM0HY"
      }
    },
    {
      "cell_type": "markdown",
      "source": [
        "### FCN Encoder with Convolutions, Depthwise Separable Convolutions, Dropout, and Normalization:\n"
      ],
      "metadata": {
        "id": "Uur2DNtVNFZ7"
      }
    },
    {
      "cell_type": "code",
      "source": [
        "import torch\n",
        "import torch.nn as nn\n",
        "import torch.nn.functional as F\n",
        "\n",
        "class FCNEncoder(nn.Module):\n",
        "    def __init__(self):\n",
        "        super(FCNEncoder, self).__init__()\n",
        "\n",
        "        # 18 convolutional layers\n",
        "        self.conv1 = nn.Conv2d(3, 32, kernel_size=3, stride=1, padding=1)\n",
        "        self.conv2 = nn.Conv2d(32, 64, kernel_size=3, stride=1, padding=1)\n",
        "        self.conv3 = nn.Conv2d(64, 128, kernel_size=3, stride=1, padding=1)\n",
        "        self.conv4 = nn.Conv2d(128, 256, kernel_size=3, stride=1, padding=1)\n",
        "        self.conv5 = nn.Conv2d(256, 512, kernel_size=3, stride=1, padding=1)\n",
        "        self.conv6 = nn.Conv2d(512, 1024, kernel_size=3, stride=1, padding=1)\n",
        "        self.conv7 = nn.Conv2d(1024, 512, kernel_size=3, stride=1, padding=1)\n",
        "        self.conv8 = nn.Conv2d(512, 256, kernel_size=3, stride=1, padding=1)\n",
        "        self.conv9 = nn.Conv2d(256, 128, kernel_size=3, stride=1, padding=1)\n",
        "        self.conv10 = nn.Conv2d(128, 64, kernel_size=3, stride=1, padding=1)\n",
        "        self.conv11 = nn.Conv2d(64, 32, kernel_size=3, stride=1, padding=1)\n",
        "        self.conv12 = nn.Conv2d(32, 16, kernel_size=3, stride=1, padding=1)\n",
        "\n",
        "        # Depthwise separable convolutions (12 layers)\n",
        "        self.dw_conv1 = nn.Conv2d(16, 16, kernel_size=3, stride=1, padding=1, groups=16)\n",
        "        self.dw_conv2 = nn.Conv2d(16, 16, kernel_size=3, stride=1, padding=1, groups=16)\n",
        "        self.dw_conv3 = nn.Conv2d(16, 16, kernel_size=3, stride=1, padding=1, groups=16)\n",
        "        self.dw_conv4 = nn.Conv2d(16, 16, kernel_size=3, stride=1, padding=1, groups=16)\n",
        "        self.dw_conv5 = nn.Conv2d(16, 16, kernel_size=3, stride=1, padding=1, groups=16)\n",
        "        self.dw_conv6 = nn.Conv2d(16, 16, kernel_size=3, stride=1, padding=1, groups=16)\n",
        "        self.dw_conv7 = nn.Conv2d(16, 16, kernel_size=3, stride=1, padding=1, groups=16)\n",
        "        self.dw_conv8 = nn.Conv2d(16, 16, kernel_size=3, stride=1, padding=1, groups=16)\n",
        "        self.dw_conv9 = nn.Conv2d(16, 16, kernel_size=3, stride=1, padding=1, groups=16)\n",
        "        self.dw_conv10 = nn.Conv2d(16, 16, kernel_size=3, stride=1, padding=1, groups=16)\n",
        "        self.dw_conv11 = nn.Conv2d(16, 16, kernel_size=3, stride=1, padding=1, groups=16)\n",
        "        self.dw_conv12 = nn.Conv2d(16, 16, kernel_size=3, stride=1, padding=1, groups=16)\n",
        "\n",
        "        # Instance Normalization\n",
        "        self.instance_norm = nn.InstanceNorm2d(16)\n",
        "\n",
        "        # Diffused Mix Dropout\n",
        "        self.dropout = nn.Dropout2d(p=0.5)\n",
        "\n",
        "    def forward(self, x):\n",
        "        # Regular convolutions\n",
        "        x = F.relu(self.conv1(x))\n",
        "        x = F.relu(self.conv2(x))\n",
        "        x = F.relu(self.conv3(x))\n",
        "        x = F.relu(self.conv4(x))\n",
        "        x = F.relu(self.conv5(x))\n",
        "        x = F.relu(self.conv6(x))\n",
        "        x = F.relu(self.conv7(x))\n",
        "        x = F.relu(self.conv8(x))\n",
        "        x = F.relu(self.conv9(x))\n",
        "        x = F.relu(self.conv10(x))\n",
        "        x = F.relu(self.conv11(x))\n",
        "        x = F.relu(self.conv12(x))\n",
        "\n",
        "        # Depthwise separable convolutions\n",
        "        x = F.relu(self.dw_conv1(x))\n",
        "        x = F.relu(self.dw_conv2(x))\n",
        "        x = F.relu(self.dw_conv3(x))\n",
        "        x = F.relu(self.dw_conv4(x))\n",
        "        x = F.relu(self.dw_conv5(x))\n",
        "        x = F.relu(self.dw_conv6(x))\n",
        "        x = F.relu(self.dw_conv7(x))\n",
        "        x = F.relu(self.dw_conv8(x))\n",
        "        x = F.relu(self.dw_conv9(x))\n",
        "        x = F.relu(self.dw_conv10(x))\n",
        "        x = F.relu(self.dw_conv11(x))\n",
        "        x = F.relu(self.dw_conv12(x))\n",
        "\n",
        "        # Apply instance normalization and dropout\n",
        "        x = self.instance_norm(x)\n",
        "        x = self.dropout(x)\n",
        "\n",
        "        return x\n"
      ],
      "metadata": {
        "id": "g4_OYsBm_KeL"
      },
      "execution_count": null,
      "outputs": []
    },
    {
      "cell_type": "markdown",
      "source": [
        "### 2D positional encoding (for image sequencing)"
      ],
      "metadata": {
        "id": "E_vRIG08RTJi"
      }
    },
    {
      "cell_type": "code",
      "source": [
        "import torch\n",
        "import math\n",
        "\n",
        "class PositionalEncoding2D(nn.Module):\n",
        "    def __init__(self, height, width, d_model):\n",
        "        super(PositionalEncoding2D, self).__init__()\n",
        "        self.height = height\n",
        "        self.width = width\n",
        "        self.d_model = d_model\n",
        "\n",
        "        # Create positional encodings for rows and columns\n",
        "        self.row_pos = torch.zeros(height, d_model // 2)\n",
        "        self.col_pos = torch.zeros(width, d_model // 2)\n",
        "\n",
        "        for pos in range(height):\n",
        "            for i in range(d_model // 2):\n",
        "                self.row_pos[pos, i] = math.sin(pos / (10000 ** (2 * i / d_model)))\n",
        "\n",
        "        for pos in range(width):\n",
        "            for i in range(d_model // 2):\n",
        "                self.col_pos[pos, i] = math.cos(pos / (10000 ** (2 * i / d_model)))\n",
        "\n",
        "    def forward(self):\n",
        "        # Concatenate row and column positional encodings\n",
        "        row_encoding = self.row_pos.unsqueeze(0).repeat(self.width, 1, 1).transpose(0, 1)  # height x width x d_model/2\n",
        "        col_encoding = self.col_pos.unsqueeze(0).repeat(self.height, 1, 1)  # width x height x d_model/2\n",
        "\n",
        "        return torch.cat([row_encoding, col_encoding], dim=-1)  # Return 2D positional encoding\n"
      ],
      "metadata": {
        "id": "fgS41w97Ra5p"
      },
      "execution_count": null,
      "outputs": []
    },
    {
      "cell_type": "code",
      "source": [
        "class FinalEncoder(nn.Module):\n",
        "    def __init__(self, height, width, hidden_dim):\n",
        "        super(FinalEncoder, self).__init__()\n",
        "        self.fcn_encoder = FCNEncoder()  # Base FCN encoder\n",
        "        self.positional_encoding = PositionalEncoding2D(height, width, hidden_dim)\n",
        "\n",
        "    def forward(self, x):\n",
        "        # Apply FCN encoder\n",
        "        feature_map = self.fcn_encoder(x)  # Output: (batch_size, channels, height, width)\n",
        "\n",
        "        # Add positional encoding to the feature map\n",
        "        pos_enc = self.positional_encoding()\n",
        "        feature_map = feature_map + pos_enc.unsqueeze(0)  # Adding 2D positional encoding\n",
        "\n",
        "        return feature_map\n"
      ],
      "metadata": {
        "id": "E031FtUTRhNZ"
      },
      "execution_count": null,
      "outputs": []
    },
    {
      "cell_type": "code",
      "source": [
        "from torchvision import transforms\n",
        "from PIL import Image\n",
        "import torch\n",
        "\n",
        "# Load and preprocess an image\n",
        "image_path = \"/content/drive/MyDrive/human_ai_folder/processed_images/Buendia-page_2.jpg\"  # Change to a valid image path\n",
        "image = Image.open(image_path).convert(\"RGB\")\n",
        "\n",
        "# Match your HDRProcessor transform (resize + normalize)\n",
        "transform = transforms.Compose([\n",
        "    transforms.Resize((384, 384)),\n",
        "    transforms.ToTensor(),\n",
        "    transforms.Normalize(mean=[0.5, 0.5, 0.5], std=[0.5, 0.5, 0.5])\n",
        "])\n",
        "\n",
        "image_tensor = transform(image).unsqueeze(0)  # Add batch dimension → (1, 3, 384, 384)\n",
        "\n",
        "# Initialize the encoder\n",
        "encoder = FCNEncoder()\n",
        "\n",
        "# Run the image through the encoder\n",
        "with torch.no_grad():\n",
        "    output = encoder(image_tensor)\n",
        "\n",
        "print(\"Input shape:\", image_tensor.shape)\n",
        "print(\"Output shape:\", output.shape)\n"
      ],
      "metadata": {
        "colab": {
          "base_uri": "https://localhost:8080/"
        },
        "id": "pU7M0m07SFmD",
        "outputId": "b111499c-22e6-4ddb-e94a-be7f76985e60"
      },
      "execution_count": null,
      "outputs": [
        {
          "output_type": "stream",
          "name": "stdout",
          "text": [
            "Input shape: torch.Size([1, 3, 384, 384])\n",
            "Output shape: torch.Size([1, 16, 384, 384])\n"
          ]
        }
      ]
    },
    {
      "cell_type": "code",
      "source": [
        "import torch\n",
        "import torch.nn as nn\n",
        "import torch.nn.functional as F\n",
        "from einops import rearrange\n",
        "\n",
        "class CausalSelfAttention(nn.Module):\n",
        "    def __init__(self, d_model, nhead, window_size=100):\n",
        "        super().__init__()\n",
        "        self.window_size = window_size\n",
        "        self.attn = nn.MultiheadAttention(d_model, nhead, dropout=0.1, batch_first=True)\n",
        "\n",
        "    def forward(self, x):\n",
        "        B, T, C = x.size()\n",
        "        causal_mask = torch.full((T, T), float(\"-inf\"), device=x.device)\n",
        "        for t in range(T):\n",
        "            causal_mask[t, max(0, t - self.window_size):t + 1] = 0\n",
        "        return self.attn(x, x, x, attn_mask=causal_mask)[0]\n",
        "\n",
        "class TransformerDecoderLayer(nn.Module):\n",
        "    def __init__(self, d_model=256, nhead=4):\n",
        "        super().__init__()\n",
        "        self.self_attn = CausalSelfAttention(d_model, nhead)\n",
        "        self.cross_attn = nn.MultiheadAttention(d_model, nhead, dropout=0.1, batch_first=True)\n",
        "        self.ffn = nn.Sequential(\n",
        "            nn.Linear(d_model, d_model),\n",
        "            nn.ReLU(),\n",
        "            nn.Dropout(0.1),\n",
        "            nn.Linear(d_model, d_model),\n",
        "        )\n",
        "        self.norm1 = nn.LayerNorm(d_model)\n",
        "        self.norm2 = nn.LayerNorm(d_model)\n",
        "        self.norm3 = nn.LayerNorm(d_model)\n",
        "\n",
        "    def forward(self, tgt, memory):\n",
        "        tgt2 = self.self_attn(self.norm1(tgt))\n",
        "        tgt = tgt + tgt2\n",
        "\n",
        "        tgt2 = self.cross_attn(self.norm2(tgt), memory, memory)[0]\n",
        "        tgt = tgt + tgt2\n",
        "\n",
        "        tgt2 = self.ffn(self.norm3(tgt))\n",
        "        tgt = tgt + tgt2\n",
        "        return tgt\n",
        "\n",
        "class TransformerDecoder(nn.Module):\n",
        "    def __init__(self, vocab_size, d_model=256, nhead=4, num_layers=8, max_len=3000):\n",
        "        super().__init__()\n",
        "        self.embedding = nn.Embedding(vocab_size, d_model)\n",
        "        self.pos_embedding = nn.Parameter(torch.randn(1, max_len, d_model))  # learned positional encoding\n",
        "\n",
        "        self.layers = nn.ModuleList([\n",
        "            TransformerDecoderLayer(d_model, nhead)\n",
        "            for _ in range(num_layers)\n",
        "        ])\n",
        "\n",
        "        self.output_proj = nn.Conv1d(d_model, vocab_size, kernel_size=1)\n",
        "\n",
        "    def forward(self, tgt_ids, memory):\n",
        "        x = self.embedding(tgt_ids) + self.pos_embedding[:, :tgt_ids.size(1), :]\n",
        "        for layer in self.layers:\n",
        "            x = layer(x, memory)\n",
        "\n",
        "        # Convert to (B, C, T) for Conv1d\n",
        "        logits = self.output_proj(x.transpose(1, 2)).transpose(1, 2)\n",
        "        return logits\n"
      ],
      "metadata": {
        "id": "LCiuAJhXSf8b"
      },
      "execution_count": null,
      "outputs": []
    },
    {
      "cell_type": "code",
      "source": [
        "import torch\n",
        "import torch.nn as nn\n",
        "import torch.nn.functional as F\n",
        "\n",
        "class DANModel(nn.Module):\n",
        "    def __init__(self, encoder, decoder, vocab_size, d_model):\n",
        "        super().__init__()\n",
        "        self.encoder = encoder\n",
        "        self.decoder = decoder\n",
        "        self.vocab_proj = nn.Conv1d(d_model, vocab_size, kernel_size=1)\n",
        "\n",
        "    def forward(self, images, tgt_input_ids, tgt_mask=None):\n",
        "        # images: (B, 3, H, W)\n",
        "        # tgt_input_ids: (B, T)\n",
        "\n",
        "        # 1. Encode image\n",
        "        encoder_output = self.encoder(images)  # (B, C, H', W')\n",
        "\n",
        "        # Flatten encoder output (B, C, H, W) → (B, L, C)\n",
        "        B, C, H, W = encoder_output.shape\n",
        "        encoder_output_flat = encoder_output.view(B, C, H * W).permute(0, 2, 1)  # (B, L, C)\n",
        "\n",
        "        # 2. Decode sequence\n",
        "        decoder_output = self.decoder(\n",
        "            tgt_input_ids,  # (B, T)\n",
        "            encoder_output_flat,  # (B, L, C)\n",
        "            tgt_mask=tgt_mask  # (T, T)\n",
        "        )  # (B, T, d_model)\n",
        "\n",
        "        # 3. Project to vocabulary\n",
        "        logits = self.vocab_proj(decoder_output.transpose(1, 2))  # (B, vocab_size, T)\n",
        "        logits = logits.transpose(1, 2)  # (B, T, vocab_size)\n",
        "        return logits\n",
        "\n",
        "    def generate(self, image, sos_token_id, eos_token_id, max_length=3000):\n",
        "        # image: (1, 3, H, W)\n",
        "        self.eval()\n",
        "        with torch.no_grad():\n",
        "            encoder_output = self.encoder(image)  # (1, C, H', W')\n",
        "            B, C, H, W = encoder_output.shape\n",
        "            encoder_output_flat = encoder_output.view(B, C, H * W).permute(0, 2, 1)  # (1, L, C)\n",
        "\n",
        "            # Start with <sos>\n",
        "            generated = torch.tensor([[sos_token_id]], dtype=torch.long, device=image.device)  # (1, 1)\n",
        "\n",
        "            for t in range(max_length):\n",
        "                tgt_mask = self.decoder.generate_square_subsequent_mask(generated.size(1)).to(image.device)\n",
        "                decoder_output = self.decoder(generated, encoder_output_flat, tgt_mask=tgt_mask)\n",
        "                logits = self.vocab_proj(decoder_output.transpose(1, 2)).transpose(1, 2)  # (1, T, vocab_size)\n",
        "\n",
        "                next_token = torch.argmax(logits[:, -1, :], dim=-1).unsqueeze(0)  # (1, 1)\n",
        "                generated = torch.cat([generated, next_token], dim=1)\n",
        "\n",
        "                if next_token.item() == eos_token_id:\n",
        "                    break\n",
        "\n",
        "        return generated[:, 1:]  # Exclude <sos>\n"
      ],
      "metadata": {
        "id": "A2xStHM9tDgh"
      },
      "execution_count": null,
      "outputs": []
    },
    {
      "cell_type": "code",
      "source": [
        "import torch\n",
        "from torch.utils.data import DataLoader\n",
        "import torch.nn as nn\n",
        "import torch.optim as optim\n",
        "from tqdm import tqdm\n",
        "\n",
        "device = torch.device(\"cuda\" if torch.cuda.is_available() else \"cpu\")\n"
      ],
      "metadata": {
        "id": "p0k-c3xT7mE1"
      },
      "execution_count": null,
      "outputs": []
    },
    {
      "cell_type": "code",
      "source": [
        "processor = HDRProcessor(tokenizer)\n",
        "train_dataset = HDRDataset(augmented_pairs, processor=processor, max_length=512)\n",
        "train_loader = DataLoader(train_dataset, batch_size=8, shuffle=True, collate_fn=collate_fn)"
      ],
      "metadata": {
        "id": "bUifopwtc6Dh"
      },
      "execution_count": null,
      "outputs": []
    },
    {
      "cell_type": "code",
      "source": [
        "model = DANModel(  # DANModel is our final encoder-decoder wrapper\n",
        "    encoder=FinalEncoder(height=384, width=384, hidden_dim=256),\n",
        "    decoder=TransformerDecoder(\n",
        "        vocab_size=tokenizer.vocab_size(),\n",
        "        d_model=256,\n",
        "        num_layers=8,\n",
        "        num_heads=4,\n",
        "        ff_dim=256,\n",
        "        dropout=0.1,\n",
        "        max_len=512\n",
        "    )\n",
        ").to(device)\n"
      ],
      "metadata": {
        "colab": {
          "base_uri": "https://localhost:8080/",
          "height": 210
        },
        "id": "w-1Mdzu4dIkU",
        "outputId": "fa0dec4a-0128-47d8-98b7-b5a4521c90c1"
      },
      "execution_count": null,
      "outputs": [
        {
          "output_type": "error",
          "ename": "TypeError",
          "evalue": "TransformerDecoder.__init__() got an unexpected keyword argument 'num_heads'",
          "traceback": [
            "\u001b[0;31m---------------------------------------------------------------------------\u001b[0m",
            "\u001b[0;31mTypeError\u001b[0m                                 Traceback (most recent call last)",
            "\u001b[0;32m<ipython-input-24-968e22af4d21>\u001b[0m in \u001b[0;36m<cell line: 0>\u001b[0;34m()\u001b[0m\n\u001b[1;32m      1\u001b[0m model = DANModel(  # DANModel is our final encoder-decoder wrapper\n\u001b[1;32m      2\u001b[0m     \u001b[0mencoder\u001b[0m\u001b[0;34m=\u001b[0m\u001b[0mFinalEncoder\u001b[0m\u001b[0;34m(\u001b[0m\u001b[0mheight\u001b[0m\u001b[0;34m=\u001b[0m\u001b[0;36m384\u001b[0m\u001b[0;34m,\u001b[0m \u001b[0mwidth\u001b[0m\u001b[0;34m=\u001b[0m\u001b[0;36m384\u001b[0m\u001b[0;34m,\u001b[0m \u001b[0mhidden_dim\u001b[0m\u001b[0;34m=\u001b[0m\u001b[0;36m256\u001b[0m\u001b[0;34m)\u001b[0m\u001b[0;34m,\u001b[0m\u001b[0;34m\u001b[0m\u001b[0;34m\u001b[0m\u001b[0m\n\u001b[0;32m----> 3\u001b[0;31m     decoder=TransformerDecoder(\n\u001b[0m\u001b[1;32m      4\u001b[0m         \u001b[0mvocab_size\u001b[0m\u001b[0;34m=\u001b[0m\u001b[0mtokenizer\u001b[0m\u001b[0;34m.\u001b[0m\u001b[0mvocab_size\u001b[0m\u001b[0;34m(\u001b[0m\u001b[0;34m)\u001b[0m\u001b[0;34m,\u001b[0m\u001b[0;34m\u001b[0m\u001b[0;34m\u001b[0m\u001b[0m\n\u001b[1;32m      5\u001b[0m         \u001b[0md_model\u001b[0m\u001b[0;34m=\u001b[0m\u001b[0;36m256\u001b[0m\u001b[0;34m,\u001b[0m\u001b[0;34m\u001b[0m\u001b[0;34m\u001b[0m\u001b[0m\n",
            "\u001b[0;31mTypeError\u001b[0m: TransformerDecoder.__init__() got an unexpected keyword argument 'num_heads'"
          ]
        }
      ]
    },
    {
      "cell_type": "code",
      "source": [],
      "metadata": {
        "id": "Mv0t06KYd48X"
      },
      "execution_count": null,
      "outputs": []
    }
  ]
}